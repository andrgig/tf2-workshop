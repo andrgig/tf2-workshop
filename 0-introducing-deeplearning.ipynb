{
 "cells": [
  {
   "cell_type": "markdown",
   "metadata": {
    "nbpresent": {
     "id": "24ca50a0-b9ad-425d-a28f-6bd3ca3ac378"
    },
    "slideshow": {
     "slide_type": "slide"
    }
   },
   "source": [
    "# Introduction to Deep Learning"
   ]
  },
  {
   "cell_type": "markdown",
   "metadata": {},
   "source": [
    "<table class=\"tfo-notebook-buttons\" align=\"left\">\n",
    "  <td>\n",
    "    <a target=\"_blank\" href=\"https://colab.research.google.com/github/\">\n",
    "    <img src=\"https://www.tensorflow.org/images/colab_logo_32px.png\" />\n",
    "    Run in Google Colab</a>\n",
    "  </td>\n",
    "  <td>\n",
    "    <a target=\"_blank\" href=\"https://github.com/tensorflow/docs/blob/master/site/en/r2/guide/migration_guide.ipynb\">\n",
    "    <img src=\"https://www.tensorflow.org/images/GitHub-Mark-32px.png\" />\n",
    "    View source on GitHub</a>\n",
    "  </td>\n",
    "</table>"
   ]
  },
  {
   "cell_type": "markdown",
   "metadata": {
    "nbpresent": {
     "id": "3896ecb2-47fa-4dbc-a2ff-9c76e9dfe93e"
    },
    "slideshow": {
     "slide_type": "subslide"
    }
   },
   "source": [
    "Deep learning allows computational models that are composed of multiple processing **layers** to learn representations of data with multiple levels of abstraction."
   ]
  },
  {
   "cell_type": "markdown",
   "metadata": {
    "nbpresent": {
     "id": "8c3060aa-fee9-438c-bc60-4685c0eb4750"
    },
    "slideshow": {
     "slide_type": "fragment"
    }
   },
   "source": [
    "These methods have dramatically improved the state-of-the-art in speech recognition, visual object recognition, object detection and many other domains such as drug discovery and genomics. "
   ]
  },
  {
   "cell_type": "markdown",
   "metadata": {
    "nbpresent": {
     "id": "6287766f-972f-4b4d-bee7-5418f0af74de"
    },
    "slideshow": {
     "slide_type": "subslide"
    }
   },
   "source": [
    "**Deep learning** is one of the leading tools in data analysis these days and one of the most common frameworks for deep learning is **Keras**. "
   ]
  },
  {
   "cell_type": "markdown",
   "metadata": {
    "nbpresent": {
     "id": "2f1c6299-954a-461a-b5c1-a86a1d12ad15"
    },
    "slideshow": {
     "slide_type": "fragment"
    }
   },
   "source": [
    "The Tutorial will provide an introduction to deep learning using `keras` with practical code examples."
   ]
  },
  {
   "cell_type": "markdown",
   "metadata": {
    "slideshow": {
     "slide_type": "slide"
    }
   },
   "source": [
    "## This Section will cover:\n",
    "\n",
    "* Getting a conceptual understanding of multi-layer neural networks\n",
    "* Training neural networks for image classification\n",
    "* Implementing the powerful backpropagation algorithm\n",
    "* Debugging neural network implementations"
   ]
  },
  {
   "cell_type": "markdown",
   "metadata": {
    "nbpresent": {
     "id": "5e13607b-3ec5-4a95-a2d8-f898f20748da"
    },
    "slideshow": {
     "slide_type": "slide"
    }
   },
   "source": [
    "# Building Blocks: Artificial Neural Networks (ANN)"
   ]
  },
  {
   "cell_type": "markdown",
   "metadata": {
    "nbpresent": {
     "id": "4fa2e86a-be32-4e78-96d9-f511a07e3908"
    },
    "slideshow": {
     "slide_type": "subslide"
    }
   },
   "source": [
    "In machine learning and cognitive science, an artificial neural network (ANN) is a network inspired by biological neural networks which are used to estimate or approximate functions that can depend on a large number of inputs that are generally unknown"
   ]
  },
  {
   "cell_type": "markdown",
   "metadata": {
    "nbpresent": {
     "id": "df0121bc-10f1-4ace-840e-6fc89c6fdc7f"
    },
    "slideshow": {
     "slide_type": "subslide"
    }
   },
   "source": [
    "An ANN is built from nodes (neurons) stacked in layers between the feature vector and the target vector. "
   ]
  },
  {
   "cell_type": "markdown",
   "metadata": {
    "nbpresent": {
     "id": "c25d7194-10bd-4196-9d4c-592bf6e188f9"
    },
    "slideshow": {
     "slide_type": "fragment"
    }
   },
   "source": [
    "A node in a neural network is built from Weights and Activation function"
   ]
  },
  {
   "cell_type": "markdown",
   "metadata": {
    "nbpresent": {
     "id": "15260f90-13d1-4fcc-afc6-379c507cb950"
    },
    "slideshow": {
     "slide_type": "subslide"
    }
   },
   "source": [
    "An early version of ANN built from one node was called the **Perceptron**"
   ]
  },
  {
   "cell_type": "markdown",
   "metadata": {
    "nbpresent": {
     "id": "92d4603e-7e39-4156-818c-785df6189fe8"
    },
    "slideshow": {
     "slide_type": "-"
    }
   },
   "source": [
    "<img src=\"https://raw.githubusercontent.com/leriomaggio/deep-learning-keras-tensorflow/ee1e0fef293767335ded05ab8ad581c000dcdc1e/imgs/Perceptron.png\" width=\"45%\">"
   ]
  },
  {
   "cell_type": "markdown",
   "metadata": {
    "nbpresent": {
     "id": "356d5ec7-3392-4daa-9671-4cc7111c5c91"
    },
    "slideshow": {
     "slide_type": "subslide"
    }
   },
   "source": [
    "The Perceptron is an algorithm for supervised learning of binary classifiers. functions that can decide whether an input (represented by a vector of numbers) belongs to one class or another.\n",
    "\n",
    "Much like logistic regression, the weights in a neural net are being multiplied by the input vertor summed up and feeded into the activation function's input."
   ]
  },
  {
   "cell_type": "markdown",
   "metadata": {
    "slideshow": {
     "slide_type": "subslide"
    }
   },
   "source": [
    "A Perceptron Network can be designed to have *multiple layers*, leading to the **Multi-Layer Perceptron** (aka `MLP`)"
   ]
  },
  {
   "cell_type": "markdown",
   "metadata": {},
   "source": [
    "<img src=\"https://raw.githubusercontent.com/leriomaggio/deep-learning-keras-tensorflow/ee1e0fef293767335ded05ab8ad581c000dcdc1e/imgs/MLP.png\" width=\"45%\">"
   ]
  },
  {
   "cell_type": "markdown",
   "metadata": {
    "slideshow": {
     "slide_type": "slide"
    }
   },
   "source": [
    "# Single Layer Neural Network"
   ]
  },
  {
   "cell_type": "markdown",
   "metadata": {},
   "source": [
    "<img src=\"https://raw.githubusercontent.com/leriomaggio/deep-learning-keras-tensorflow/ee1e0fef293767335ded05ab8ad581c000dcdc1e/imgs/single_layer.png\" width=\"65%\" />\n",
    "\n",
    "_(Source: Python Machine Learning, S. Raschka)_"
   ]
  },
  {
   "cell_type": "markdown",
   "metadata": {},
   "source": [
    "### Weights Update Rule"
   ]
  },
  {
   "cell_type": "markdown",
   "metadata": {
    "slideshow": {
     "slide_type": "subslide"
    }
   },
   "source": [
    "- We use a **gradient descent** optimization algorithm to learn the _Weights Coefficients_ of the model.\n",
    "<br><br>\n",
    "- In every **epoch** (pass over the training set), we update the weight vector $w$ using the following update rule:\n",
    "\n",
    "$$\n",
    "w = w + \\Delta w, \\text{where } \\Delta w = - \\eta \\nabla J(w)\n",
    "$$\n",
    "\n",
    "<br><br>\n",
    "\n",
    "In other words, we computed the gradient based on the whole training set and updated the weights of the model by taking a step into the **opposite direction** of the gradient $ \\nabla J(w)$. \n",
    "\n",
    "In order to fin the **optimal weights of the model**, we optimized an objective function (e.g. the Sum of Squared Errors (SSE)) cost function $J(w)$. \n",
    "\n",
    "Furthermore, we multiply the gradient by a factor, the learning rate $\\eta$ , which we choose carefully to balance the **speed of learning** against the risk of overshooting the global minimum of the cost function."
   ]
  },
  {
   "cell_type": "markdown",
   "metadata": {},
   "source": [
    "### Gradient Descent"
   ]
  },
  {
   "cell_type": "markdown",
   "metadata": {},
   "source": [
    "In **gradient descent optimization**, we update all the **weights simultaneously** after each epoch, and we define the _partial derivative_ for each weight $w_j$ in the weight vector $w$ as follows:\n",
    "\n",
    "$$\n",
    "\\frac{\\partial}{\\partial w_j} J(w) = \\sum_{i} ( y^{(i)} - a^{(i)} )  x^{(i)}_j\n",
    "$$\n",
    "\n",
    "**Note**: _The superscript $(i)$ refers to the i-th sample. The subscript $j$ refers to the j-th dimension/feature_\n",
    "\n",
    "\n",
    "Here $y^{(i)}$ is the target class label of a particular sample $x^{(i)}$ , and $a^{(i)}$ is the **activation** of the neuron \n",
    "\n",
    "(which is a linear function in the special case of _Perceptron_)."
   ]
  },
  {
   "cell_type": "markdown",
   "metadata": {},
   "source": [
    "We define the **activation function** $\\phi(\\cdot)$ as follows:\n",
    "\n",
    "$$\n",
    "\\phi(z) = z = a = \\sum_{j} w_j x_j = \\mathbf{w}^T \\mathbf{x}\n",
    "$$"
   ]
  },
  {
   "cell_type": "markdown",
   "metadata": {},
   "source": [
    "### Binary Classification"
   ]
  },
  {
   "cell_type": "markdown",
   "metadata": {},
   "source": [
    "While we used the **activation** $\\phi(z)$ to compute the gradient update, we may use a **threshold function** _(Heaviside function)_ to squash the continuous-valued output into binary class labels for prediction:\n",
    "\n",
    "$$\n",
    "\\hat{y} = \n",
    "\\begin{cases}\n",
    "    1 & \\text{if } \\phi(z) \\geq 0 \\\\\n",
    "    0 & \\text{otherwise}\n",
    "\\end{cases}\n",
    "$$"
   ]
  },
  {
   "cell_type": "markdown",
   "metadata": {
    "slideshow": {
     "slide_type": "slide"
    }
   },
   "source": [
    "## Building Neural Nets from scratch \n"
   ]
  },
  {
   "cell_type": "markdown",
   "metadata": {
    "slideshow": {
     "slide_type": "subslide"
    }
   },
   "source": [
    "### Idea:\n",
    "\n",
    "We will build the neural networks from first principles. \n",
    "We will create a very simple model and understand how it works. We will also be implementing backpropagation algorithm. \n",
    "\n",
    "**Please note that this code is not optimized and not to be used in production**. \n",
    "\n",
    "This is for instructive purpose - for us to understand how ANN works. \n",
    "\n",
    "Libraries like `tensorflow` have highly optimized code."
   ]
  },
  {
   "cell_type": "markdown",
   "metadata": {},
   "source": [
    "If you want a sneak peek of alternate (production ready) implementation of _Perceptron_ for instance try:\n",
    "```python\n",
    "from sklearn.linear_model import Perceptron\n",
    "```"
   ]
  },
  {
   "cell_type": "markdown",
   "metadata": {},
   "source": [
    "## Introducing the multi-layer neural network architecture"
   ]
  },
  {
   "cell_type": "markdown",
   "metadata": {},
   "source": [
    "<img src=\"https://raw.githubusercontent.com/leriomaggio/deep-learning-keras-tensorflow/ee1e0fef293767335ded05ab8ad581c000dcdc1e/imgs/multi-layers-1.png\" width=\"50%\" />\n",
    "\n",
    "_(Source: Python Machine Learning, S. Raschka)_"
   ]
  },
  {
   "cell_type": "markdown",
   "metadata": {},
   "source": [
    "Now we will see how to connect **multiple single neurons** to a **multi-layer feedforward neural network**; this special type of network is also called a **multi-layer perceptron** (MLP). \n",
    "\n",
    "The figure shows the concept of an **MLP** consisting of three layers: one _input_ layer, one _hidden_ layer, and one _output_ layer. \n",
    "\n",
    "The units in the hidden layer are fully connected to the input layer, and the output layer is fully connected to the hidden layer, respectively. \n",
    "\n",
    "If such a network has **more than one hidden layer**, we also call it a **deep artificial neural network**.\n"
   ]
  },
  {
   "cell_type": "markdown",
   "metadata": {},
   "source": [
    "### Notation"
   ]
  },
  {
   "cell_type": "markdown",
   "metadata": {},
   "source": [
    "we denote the `ith` activation unit in the `lth` layer as $a_i^{(l)}$ , and the activation units $a_0^{(1)}$ and \n",
    "$a_0^{(2)}$ are the **bias units**, respectively, which we set equal to $1$. \n",
    "<br><br>\n",
    "The _activation_ of the units in the **input layer** is just its input plus the bias unit:\n",
    "\n",
    "$$\n",
    "\\mathbf{a}^{(1)} = [a_0^{(1)}, a_1^{(1)}, \\ldots, a_m^{(1)}]^T = [1, x_1^{(i)}, \\ldots, x_m^{(i)}]^T\n",
    "$$\n",
    "<br><br>\n",
    "**Note**: $x_j^{(i)}$ refers to the jth feature/dimension of the ith sample"
   ]
  },
  {
   "cell_type": "markdown",
   "metadata": {},
   "source": [
    "### Notes on Notation (usually) Adopted\n",
    "\n",
    "The terminology around the indices (subscripts and superscripts) may look a little bit confusing at first. \n",
    "<br><br>\n",
    "\n",
    "You may wonder why we wrote $w_{j,k}^{(l)}$ and not $w_{k,j}^{(l)}$ to refer to \n",
    "the **weight coefficient** that connects the *kth* unit in layer $l$ to the jth unit in layer $l+1$. \n",
    "<br><br>\n",
    "\n",
    "What may seem a little bit quirky at first will make much more sense later when we **vectorize** the neural network representation. \n",
    "<br><br>\n",
    "\n",
    "For example, we will summarize the weights that connect the input and hidden layer by a matrix \n",
    "$$ W^{(1)} \\in \\mathbb{R}^{h×[m+1]}$$\n",
    "\n",
    "where $h$ is the number of hidden units and $m + 1$ is the number of hidden units plus bias unit. "
   ]
  },
  {
   "cell_type": "markdown",
   "metadata": {},
   "source": [
    "<img src=\"https://raw.githubusercontent.com/leriomaggio/deep-learning-keras-tensorflow/ee1e0fef293767335ded05ab8ad581c000dcdc1e/imgs/multi-layers-2.png\" width=\"50%\" />\n",
    "\n",
    "_(Source: Python Machine Learning, S. Raschka)_"
   ]
  },
  {
   "cell_type": "markdown",
   "metadata": {},
   "source": [
    "## Forward Propagation"
   ]
  },
  {
   "cell_type": "markdown",
   "metadata": {},
   "source": [
    "* Starting at the input layer, we forward propagate the patterns of the training data through the network to generate an output.\n",
    "\n",
    "* Based on the network's output, we calculate the error that we want to minimize using a cost function that we will describe later.\n",
    "\n",
    "* We backpropagate the error, find its derivative with respect to each weight in the network, and update the model."
   ]
  },
  {
   "cell_type": "markdown",
   "metadata": {},
   "source": [
    "### Sigmoid Activation"
   ]
  },
  {
   "cell_type": "markdown",
   "metadata": {},
   "source": [
    "<img src=\"https://raw.githubusercontent.com/leriomaggio/deep-learning-keras-tensorflow/ee1e0fef293767335ded05ab8ad581c000dcdc1e/imgs/logistic_function.png\" width=\"50%\" />\n",
    "\n",
    "_(Source: Python Machine Learning, S. Raschka)_"
   ]
  },
  {
   "cell_type": "markdown",
   "metadata": {},
   "source": [
    "<img src=\"https://raw.githubusercontent.com/leriomaggio/deep-learning-keras-tensorflow/ee1e0fef293767335ded05ab8ad581c000dcdc1e/imgs/fwd_step.png\" width=\"50%\" />\n",
    "\n",
    "_(Source: Python Machine Learning, S. Raschka)_"
   ]
  },
  {
   "cell_type": "markdown",
   "metadata": {},
   "source": [
    "<img src=\"https://raw.githubusercontent.com/leriomaggio/deep-learning-keras-tensorflow/ee1e0fef293767335ded05ab8ad581c000dcdc1e/imgs/fwd_step_net.png\" width=\"50%\" />\n",
    "\n",
    "_(Source: Python Machine Learning, S. Raschka)_"
   ]
  },
  {
   "cell_type": "markdown",
   "metadata": {},
   "source": [
    "## Backward Propagation"
   ]
  },
  {
   "cell_type": "markdown",
   "metadata": {
    "nbpresent": {
     "id": "5678486b-caf4-440b-be62-2f1286982c71"
    },
    "slideshow": {
     "slide_type": "subslide"
    }
   },
   "source": [
    "The weights of each neuron are learned by **gradient descent**, where each neuron's error is derived with respect to it's weight."
   ]
  },
  {
   "cell_type": "markdown",
   "metadata": {},
   "source": [
    "<img src=\"https://raw.githubusercontent.com/leriomaggio/deep-learning-keras-tensorflow/ee1e0fef293767335ded05ab8ad581c000dcdc1e/imgs/bkwd_step_net.png\" width=\"50%\" />\n",
    "\n",
    "_(Source: Python Machine Learning, S. Raschka)_"
   ]
  },
  {
   "cell_type": "markdown",
   "metadata": {
    "slideshow": {
     "slide_type": "subslide"
    }
   },
   "source": [
    "Optimization is done for each layer with respect to the previous layer in a technique known as **BackPropagation**."
   ]
  },
  {
   "cell_type": "markdown",
   "metadata": {},
   "source": [
    "<img src=\"https://raw.githubusercontent.com/leriomaggio/deep-learning-keras-tensorflow/ee1e0fef293767335ded05ab8ad581c000dcdc1e/imgs/backprop.png\" width=\"50%\">"
   ]
  },
  {
   "cell_type": "markdown",
   "metadata": {
    "slideshow": {
     "slide_type": "skip"
    }
   },
   "source": [
    "(*The following code is inspired from [these](https://github.com/dennybritz/nn-from-scratch) terrific notebooks*)"
   ]
  },
  {
   "cell_type": "code",
   "execution_count": 1,
   "metadata": {
    "collapsed": true,
    "slideshow": {
     "slide_type": "skip"
    }
   },
   "outputs": [],
   "source": [
    "# Import the required packages\n",
    "import numpy as np\n",
    "import pandas as pd\n",
    "import matplotlib\n",
    "import matplotlib.pyplot as plt\n",
    "import scipy"
   ]
  },
  {
   "cell_type": "code",
   "execution_count": 2,
   "metadata": {
    "collapsed": true,
    "slideshow": {
     "slide_type": "skip"
    }
   },
   "outputs": [],
   "source": [
    "# Display plots in notebook \n",
    "%matplotlib inline\n",
    "# Define plot's default figure size\n",
    "matplotlib.rcParams['figure.figsize'] = (10.0, 8.0)"
   ]
  },
  {
   "cell_type": "code",
   "execution_count": 3,
   "metadata": {
    "collapsed": true,
    "slideshow": {
     "slide_type": "subslide"
    }
   },
   "outputs": [],
   "source": [
    "#read the datasets\n",
    "train = pd.read_csv(\"https://raw.githubusercontent.com/leriomaggio/deep-learning-keras-tensorflow/master/data/intro_to_ann.csv\")"
   ]
  },
  {
   "cell_type": "code",
   "execution_count": 4,
   "metadata": {
    "collapsed": true,
    "slideshow": {
     "slide_type": "fragment"
    }
   },
   "outputs": [],
   "source": [
    "X, y = np.array(train.iloc[:,0:2]), np.array(train.iloc[:,2])"
   ]
  },
  {
   "cell_type": "code",
   "execution_count": 5,
   "metadata": {
    "slideshow": {
     "slide_type": "fragment"
    }
   },
   "outputs": [
    {
     "data": {
      "text/plain": [
       "(500, 2)"
      ]
     },
     "execution_count": 5,
     "metadata": {},
     "output_type": "execute_result"
    }
   ],
   "source": [
    "X.shape"
   ]
  },
  {
   "cell_type": "code",
   "execution_count": 6,
   "metadata": {
    "slideshow": {
     "slide_type": "fragment"
    }
   },
   "outputs": [
    {
     "data": {
      "text/plain": [
       "(500,)"
      ]
     },
     "execution_count": 6,
     "metadata": {},
     "output_type": "execute_result"
    }
   ],
   "source": [
    "y.shape"
   ]
  },
  {
   "cell_type": "code",
   "execution_count": 7,
   "metadata": {
    "slideshow": {
     "slide_type": "subslide"
    }
   },
   "outputs": [
    {
     "data": {
      "image/png": "[encoded data removed]",
      "text/plain": [
       "<Figure size 720x576 with 1 Axes>"
      ]
     },
     "metadata": {
      "needs_background": "light"
     },
     "output_type": "display_data"
    }
   ],
   "source": [
    "#Let's plot the dataset and see how it is\n",
    "plt.scatter(X[:,0], X[:,1], s=40, c=y, cmap=plt.cm.BuGn)\n",
    "plt.show()"
   ]
  },
  {
   "cell_type": "markdown",
   "metadata": {
    "slideshow": {
     "slide_type": "subslide"
    }
   },
   "source": [
    "## Start Building our MLP building blocks\n",
    "\n",
    "Note: This process will eventually result in our own Neural Networks class"
   ]
  },
  {
   "cell_type": "markdown",
   "metadata": {
    "slideshow": {
     "slide_type": "subslide"
    }
   },
   "source": [
    "### A look at the details"
   ]
  },
  {
   "cell_type": "markdown",
   "metadata": {},
   "source": [
    "<img src=\"https://raw.githubusercontent.com/leriomaggio/deep-learning-keras-tensorflow/ee1e0fef293767335ded05ab8ad581c000dcdc1e/imgs/mlp_details.png\" width=\"65%\" />"
   ]
  },
  {
   "cell_type": "code",
   "execution_count": 8,
   "metadata": {
    "collapsed": true,
    "slideshow": {
     "slide_type": "subslide"
    }
   },
   "outputs": [],
   "source": [
    "import random\n",
    "random.seed(123)\n",
    "\n",
    "# calculate a random number where:  a <= rand < b\n",
    "def rand(a, b):\n",
    "    return (b-a)*random.random() + a"
   ]
  },
  {
   "cell_type": "markdown",
   "metadata": {
    "slideshow": {
     "slide_type": "subslide"
    }
   },
   "source": [
    "##### Function to generate a random number, given two numbers\n",
    "\n",
    "**Where will it be used?**: When we initialize the neural networks, the weights have to be randomly assigned."
   ]
  },
  {
   "cell_type": "code",
   "execution_count": 9,
   "metadata": {
    "collapsed": true,
    "slideshow": {
     "slide_type": "fragment"
    }
   },
   "outputs": [],
   "source": [
    "# Make a matrix \n",
    "def makeMatrix(I, J, fill=0.0):\n",
    "    return np.zeros([I,J])"
   ]
  },
  {
   "cell_type": "markdown",
   "metadata": {
    "slideshow": {
     "slide_type": "subslide"
    }
   },
   "source": [
    "### Define our activation function. Let's use sigmoid function"
   ]
  },
  {
   "cell_type": "code",
   "execution_count": 10,
   "metadata": {
    "collapsed": true
   },
   "outputs": [],
   "source": [
    "# our sigmoid function\n",
    "def sigmoid(x):\n",
    "    #return math.tanh(x)\n",
    "    return 1/(1+np.exp(-x))"
   ]
  },
  {
   "cell_type": "markdown",
   "metadata": {
    "slideshow": {
     "slide_type": "subslide"
    }
   },
   "source": [
    "### Derivative of our activation function. \n",
    "\n",
    "Note: We need this when we run the backpropagation algorithm\n"
   ]
  },
  {
   "cell_type": "code",
   "execution_count": 11,
   "metadata": {
    "collapsed": true
   },
   "outputs": [],
   "source": [
    "# derivative of our sigmoid function, in terms of the output (i.e. y)\n",
    "def dsigmoid(y):\n",
    "    return y - y**2"
   ]
  },
  {
   "cell_type": "markdown",
   "metadata": {
    "slideshow": {
     "slide_type": "subslide"
    }
   },
   "source": [
    "### Our neural networks class\n",
    "\n",
    "When we first create a neural networks architecture, we need to know the number of inputs, number of hidden layers and number of outputs.\n",
    "\n",
    "The weights have to be randomly initialized."
   ]
  },
  {
   "cell_type": "markdown",
   "metadata": {
    "slideshow": {
     "slide_type": "subslide"
    }
   },
   "source": [
    "```python\n",
    "class MLP:\n",
    "    def __init__(self, ni, nh, no):\n",
    "        # number of input, hidden, and output nodes\n",
    "        self.ni = ni + 1 # +1 for bias node\n",
    "        self.nh = nh\n",
    "        self.no = no\n",
    "\n",
    "        # activations for nodes\n",
    "        self.ai = [1.0]*self.ni\n",
    "        self.ah = [1.0]*self.nh\n",
    "        self.ao = [1.0]*self.no\n",
    "        \n",
    "        # create weights\n",
    "        self.wi = makeMatrix(self.ni, self.nh)\n",
    "        self.wo = makeMatrix(self.nh, self.no)\n",
    "        \n",
    "        # set them to random vaules\n",
    "        self.wi = rand(-0.2, 0.2, size=self.wi.shape)\n",
    "        self.wo = rand(-2.0, 2.0, size=self.wo.shape)\n",
    "\n",
    "        # last change in weights for momentum   \n",
    "        self.ci = makeMatrix(self.ni, self.nh)\n",
    "        self.co = makeMatrix(self.nh, self.no)\n",
    "```"
   ]
  },
  {
   "cell_type": "markdown",
   "metadata": {
    "slideshow": {
     "slide_type": "subslide"
    }
   },
   "source": [
    "### Activation Function"
   ]
  },
  {
   "cell_type": "markdown",
   "metadata": {},
   "source": [
    "```python\n",
    "def activate(self, inputs):\n",
    "        \n",
    "    if len(inputs) != self.ni-1:\n",
    "        print(inputs)\n",
    "        raise ValueError('wrong number of inputs')\n",
    "\n",
    "    # input activations\n",
    "    for i in range(self.ni-1):\n",
    "        self.ai[i] = inputs[i]\n",
    "\n",
    "    # hidden activations\n",
    "    for j in range(self.nh):\n",
    "        sum_h = 0.0\n",
    "        for i in range(self.ni):\n",
    "            sum_h += self.ai[i] * self.wi[i][j]\n",
    "        self.ah[j] = sigmoid(sum_h)\n",
    "\n",
    "    # output activations\n",
    "    for k in range(self.no):\n",
    "        sum_o = 0.0\n",
    "        for j in range(self.nh):\n",
    "            sum_o += self.ah[j] * self.wo[j][k]\n",
    "        self.ao[k] = sigmoid(sum_o)\n",
    "\n",
    "    return self.ao[:]\n",
    "```"
   ]
  },
  {
   "cell_type": "markdown",
   "metadata": {
    "slideshow": {
     "slide_type": "subslide"
    }
   },
   "source": [
    "### BackPropagation"
   ]
  },
  {
   "cell_type": "markdown",
   "metadata": {},
   "source": [
    "```python\n",
    "def backPropagate(self, targets, N, M):\n",
    "        \n",
    "    if len(targets) != self.no:\n",
    "        print(targets)\n",
    "        raise ValueError('wrong number of target values')\n",
    "\n",
    "    # calculate error terms for output\n",
    "    output_deltas = np.zeros(self.no)\n",
    "    for k in range(self.no):\n",
    "        error = targets[k]-self.ao[k]\n",
    "        output_deltas[k] = dsigmoid(self.ao[k]) * error\n",
    "\n",
    "    # calculate error terms for hidden\n",
    "    hidden_deltas = np.zeros(self.nh)\n",
    "    for j in range(self.nh):\n",
    "        error = 0.0\n",
    "        for k in range(self.no):\n",
    "            error += output_deltas[k]*self.wo[j][k]\n",
    "        hidden_deltas[j] = dsigmoid(self.ah[j]) * error\n",
    "\n",
    "    # update output weights\n",
    "    for j in range(self.nh):\n",
    "        for k in range(self.no):\n",
    "            change = output_deltas[k] * self.ah[j]\n",
    "            self.wo[j][k] += N*change + \n",
    "                             M*self.co[j][k]\n",
    "            self.co[j][k] = change\n",
    "\n",
    "    # update input weights\n",
    "    for i in range(self.ni):\n",
    "        for j in range(self.nh):\n",
    "            change = hidden_deltas[j]*self.ai[i]\n",
    "            self.wi[i][j] += N*change + \n",
    "                             M*self.ci[i][j]\n",
    "            self.ci[i][j] = change\n",
    "\n",
    "    # calculate error\n",
    "    error = 0.0\n",
    "    for k in range(len(targets)):\n",
    "        error += 0.5*(targets[k]-self.ao[k])**2\n",
    "    return error\n",
    "```"
   ]
  },
  {
   "cell_type": "code",
   "execution_count": 12,
   "metadata": {
    "collapsed": true,
    "slideshow": {
     "slide_type": "subslide"
    }
   },
   "outputs": [],
   "source": [
    "# Putting all together\n",
    "\n",
    "class MLP:\n",
    "    def __init__(self, ni, nh, no):\n",
    "        # number of input, hidden, and output nodes\n",
    "        self.ni = ni + 1 # +1 for bias node\n",
    "        self.nh = nh\n",
    "        self.no = no\n",
    "\n",
    "        # activations for nodes\n",
    "        self.ai = [1.0]*self.ni\n",
    "        self.ah = [1.0]*self.nh\n",
    "        self.ao = [1.0]*self.no\n",
    "        \n",
    "        # create weights\n",
    "        self.wi = makeMatrix(self.ni, self.nh)\n",
    "        self.wo = makeMatrix(self.nh, self.no)\n",
    "        \n",
    "        # set them to random vaules\n",
    "        for i in range(self.ni):\n",
    "            for j in range(self.nh):\n",
    "                self.wi[i][j] = rand(-0.2, 0.2)\n",
    "        for j in range(self.nh):\n",
    "            for k in range(self.no):\n",
    "                self.wo[j][k] = rand(-2.0, 2.0)\n",
    "\n",
    "        # last change in weights for momentum   \n",
    "        self.ci = makeMatrix(self.ni, self.nh)\n",
    "        self.co = makeMatrix(self.nh, self.no)\n",
    "        \n",
    "\n",
    "    def backPropagate(self, targets, N, M):\n",
    "        \n",
    "        if len(targets) != self.no:\n",
    "            print(targets)\n",
    "            raise ValueError('wrong number of target values')\n",
    "\n",
    "        # calculate error terms for output\n",
    "        output_deltas = np.zeros(self.no)\n",
    "        for k in range(self.no):\n",
    "            error = targets[k]-self.ao[k]\n",
    "            output_deltas[k] = dsigmoid(self.ao[k]) * error\n",
    "\n",
    "        # calculate error terms for hidden\n",
    "        hidden_deltas = np.zeros(self.nh)\n",
    "        for j in range(self.nh):\n",
    "            error = 0.0\n",
    "            for k in range(self.no):\n",
    "                error += output_deltas[k]*self.wo[j][k]\n",
    "            hidden_deltas[j] = dsigmoid(self.ah[j]) * error\n",
    "\n",
    "        # update output weights\n",
    "        for j in range(self.nh):\n",
    "            for k in range(self.no):\n",
    "                change = output_deltas[k] * self.ah[j]\n",
    "                self.wo[j][k] += N*change + M*self.co[j][k]\n",
    "                self.co[j][k] = change\n",
    "\n",
    "        # update input weights\n",
    "        for i in range(self.ni):\n",
    "            for j in range(self.nh):\n",
    "                change = hidden_deltas[j]*self.ai[i]\n",
    "                self.wi[i][j] += N*change + M*self.ci[i][j]\n",
    "                self.ci[i][j] = change\n",
    "\n",
    "        # calculate error\n",
    "        error = 0.0\n",
    "        for k in range(len(targets)):\n",
    "            error += 0.5*(targets[k]-self.ao[k])**2\n",
    "        return error\n",
    "\n",
    "\n",
    "    def test(self, patterns):\n",
    "        self.predict = np.empty([len(patterns), self.no])\n",
    "        for i, p in enumerate(patterns):\n",
    "            self.predict[i] = self.activate(p)\n",
    "            #self.predict[i] = self.activate(p[0])\n",
    "            \n",
    "    def activate(self, inputs):\n",
    "        \n",
    "        if len(inputs) != self.ni-1:\n",
    "            print(inputs)\n",
    "            raise ValueError('wrong number of inputs')\n",
    "\n",
    "        # input activations\n",
    "        for i in range(self.ni-1):\n",
    "            self.ai[i] = inputs[i]\n",
    "\n",
    "        # hidden activations\n",
    "        for j in range(self.nh):\n",
    "            sum_h = 0.0\n",
    "            for i in range(self.ni):\n",
    "                sum_h += self.ai[i] * self.wi[i][j]\n",
    "            self.ah[j] = sigmoid(sum_h)\n",
    "\n",
    "        # output activations\n",
    "        for k in range(self.no):\n",
    "            sum_o = 0.0\n",
    "            for j in range(self.nh):\n",
    "                sum_o += self.ah[j] * self.wo[j][k]\n",
    "            self.ao[k] = sigmoid(sum_o)\n",
    "\n",
    "        return self.ao[:]\n",
    "    \n",
    "\n",
    "    def train(self, patterns, iterations=1000, N=0.5, M=0.1):\n",
    "        # N: learning rate\n",
    "        # M: momentum factor\n",
    "        patterns = list(patterns)\n",
    "        for i in range(iterations):\n",
    "            error = 0.0\n",
    "            for p in patterns:\n",
    "                inputs = p[0]\n",
    "                targets = p[1]\n",
    "                self.activate(inputs)\n",
    "                error += self.backPropagate([targets], N, M)\n",
    "            if i % 5 == 0:\n",
    "                print('error in interation %d : %-.5f' % (i,error))\n",
    "            print('Final training error: %-.5f' % error)"
   ]
  },
  {
   "cell_type": "markdown",
   "metadata": {
    "slideshow": {
     "slide_type": "subslide"
    }
   },
   "source": [
    "### Running the model on our dataset"
   ]
  },
  {
   "cell_type": "code",
   "execution_count": 13,
   "metadata": {},
   "outputs": [
    {
     "name": "stdout",
     "output_type": "stream",
     "text": [
      "error in interation 0 : 53.62995\n",
      "Final training error: 53.62995\n",
      "Final training error: 47.35136\n",
      "49 ms ± 0 ns per loop (mean ± std. dev. of 1 run, 1 loop each)\n"
     ]
    }
   ],
   "source": [
    "# create a network with two inputs, one hidden, and one output nodes\n",
    "ann = MLP(2, 1, 1)\n",
    "\n",
    "%timeit -n 1 -r 1 ann.train(zip(X,y), iterations=2)"
   ]
  },
  {
   "cell_type": "markdown",
   "metadata": {
    "slideshow": {
     "slide_type": "subslide"
    }
   },
   "source": [
    "### Predicting on training dataset and measuring in-sample accuracy"
   ]
  },
  {
   "cell_type": "code",
   "execution_count": 14,
   "metadata": {},
   "outputs": [
    {
     "name": "stdout",
     "output_type": "stream",
     "text": [
      "7.41 ms ± 0 ns per loop (mean ± std. dev. of 1 run, 1 loop each)\n"
     ]
    }
   ],
   "source": [
    "%timeit -n 1 -r 1 ann.test(X)"
   ]
  },
  {
   "cell_type": "code",
   "execution_count": 15,
   "metadata": {
    "slideshow": {
     "slide_type": "fragment"
    }
   },
   "outputs": [
    {
     "data": {
      "text/html": [
       "<div>\n",
       "<style scoped>\n",
       "    .dataframe tbody tr th:only-of-type {\n",
       "        vertical-align: middle;\n",
       "    }\n",
       "\n",
       "    .dataframe tbody tr th {\n",
       "        vertical-align: top;\n",
       "    }\n",
       "\n",
       "    .dataframe thead th {\n",
       "        text-align: right;\n",
       "    }\n",
       "</style>\n",
       "<table border=\"1\" class=\"dataframe\">\n",
       "  <thead>\n",
       "    <tr style=\"text-align: right;\">\n",
       "      <th></th>\n",
       "      <th>actual</th>\n",
       "      <th>prediction</th>\n",
       "    </tr>\n",
       "  </thead>\n",
       "  <tbody>\n",
       "    <tr>\n",
       "      <th>0</th>\n",
       "      <td>1.0</td>\n",
       "      <td>0.491100</td>\n",
       "    </tr>\n",
       "    <tr>\n",
       "      <th>1</th>\n",
       "      <td>1.0</td>\n",
       "      <td>0.495469</td>\n",
       "    </tr>\n",
       "    <tr>\n",
       "      <th>2</th>\n",
       "      <td>0.0</td>\n",
       "      <td>0.097362</td>\n",
       "    </tr>\n",
       "    <tr>\n",
       "      <th>3</th>\n",
       "      <td>0.0</td>\n",
       "      <td>0.400006</td>\n",
       "    </tr>\n",
       "    <tr>\n",
       "      <th>4</th>\n",
       "      <td>1.0</td>\n",
       "      <td>0.489664</td>\n",
       "    </tr>\n",
       "  </tbody>\n",
       "</table>\n",
       "</div>"
      ],
      "text/plain": [
       "   actual  prediction\n",
       "0     1.0    0.491100\n",
       "1     1.0    0.495469\n",
       "2     0.0    0.097362\n",
       "3     0.0    0.400006\n",
       "4     1.0    0.489664"
      ]
     },
     "execution_count": 15,
     "metadata": {},
     "output_type": "execute_result"
    }
   ],
   "source": [
    "prediction = pd.DataFrame(data=np.array([y, np.ravel(ann.predict)]).T, \n",
    "                          columns=[\"actual\", \"prediction\"])\n",
    "prediction.head()"
   ]
  },
  {
   "cell_type": "code",
   "execution_count": 16,
   "metadata": {
    "slideshow": {
     "slide_type": "fragment"
    }
   },
   "outputs": [
    {
     "data": {
      "text/plain": [
       "0.07655307811318013"
      ]
     },
     "execution_count": 16,
     "metadata": {},
     "output_type": "execute_result"
    }
   ],
   "source": [
    "np.min(prediction.prediction)"
   ]
  },
  {
   "cell_type": "markdown",
   "metadata": {
    "slideshow": {
     "slide_type": "subslide"
    }
   },
   "source": [
    "### Let's visualize and observe the results"
   ]
  },
  {
   "cell_type": "code",
   "execution_count": 17,
   "metadata": {
    "collapsed": true,
    "slideshow": {
     "slide_type": "skip"
    }
   },
   "outputs": [],
   "source": [
    "# Helper function to plot a decision boundary.\n",
    "# This generates the contour plot to show the decision boundary visually\n",
    "def plot_decision_boundary(nn_model):\n",
    "    # Set min and max values and give it some padding\n",
    "    x_min, x_max = X[:, 0].min() - .5, X[:, 0].max() + .5\n",
    "    y_min, y_max = X[:, 1].min() - .5, X[:, 1].max() + .5\n",
    "    h = 0.01\n",
    "    # Generate a grid of points with distance h between them\n",
    "    xx, yy = np.meshgrid(np.arange(x_min, x_max, h), \n",
    "                         np.arange(y_min, y_max, h))\n",
    "    # Predict the function value for the whole gid\n",
    "    nn_model.test(np.c_[xx.ravel(), yy.ravel()])\n",
    "    Z = nn_model.predict\n",
    "    Z[Z>=0.5] = 1\n",
    "    Z[Z<0.5] = 0\n",
    "    Z = Z.reshape(xx.shape)\n",
    "    # Plot the contour and training examples\n",
    "    plt.contourf(xx, yy, Z, cmap=plt.cm.Spectral)\n",
    "    plt.scatter(X[:, 0], X[:, 1], s=40,  c=y, cmap=plt.cm.BuGn)"
   ]
  },
  {
   "cell_type": "code",
   "execution_count": 18,
   "metadata": {},
   "outputs": [
    {
     "data": {
      "image/png": "[encoded data removed]",
      "text/plain": [
       "<Figure size 720x576 with 1 Axes>"
      ]
     },
     "metadata": {
      "needs_background": "light"
     },
     "output_type": "display_data"
    }
   ],
   "source": [
    "plot_decision_boundary(ann)\n",
    "plt.title(\"Our initial model\")\n",
    "plt.show()"
   ]
  },
  {
   "cell_type": "markdown",
   "metadata": {
    "slideshow": {
     "slide_type": "subslide"
    }
   },
   "source": [
    "**Exercise**: \n",
    "\n",
    "Create Neural networks with 10 hidden nodes on the above code. \n",
    "\n",
    "What's the impact on accuracy?"
   ]
  },
  {
   "cell_type": "code",
   "execution_count": 19,
   "metadata": {
    "collapsed": true
   },
   "outputs": [],
   "source": [
    "# Put your code here \n",
    "#(or load the solution if you wanna cheat :-)"
   ]
  },
  {
   "cell_type": "markdown",
   "metadata": {
    "slideshow": {
     "slide_type": "subslide"
    }
   },
   "source": [
    "**Exercise:**\n",
    "\n",
    "Train the neural networks by increasing the epochs. \n",
    "\n",
    "What's the impact on accuracy?"
   ]
  },
  {
   "cell_type": "code",
   "execution_count": 20,
   "metadata": {
    "collapsed": true
   },
   "outputs": [],
   "source": [
    "#Put your code here"
   ]
  },
  {
   "cell_type": "code",
   "execution_count": null,
   "metadata": {
    "collapsed": true,
    "scrolled": false,
    "slideshow": {
     "slide_type": "subslide"
    }
   },
   "outputs": [],
   "source": []
  },
  {
   "cell_type": "markdown",
   "metadata": {
    "slideshow": {
     "slide_type": "subslide"
    }
   },
   "source": [
    "# Addendum\n",
    "\n",
    "Another terrific reference to start is the online book http://neuralnetworksanddeeplearning.com/. Highly recommended!  "
   ]
  },
  {
   "cell_type": "code",
   "execution_count": null,
   "metadata": {},
   "outputs": [],
   "source": []
  }
 ],
 "metadata": {
  "kernelspec": {
   "display_name": "Python 3.7 (WebValley2019)",
   "language": "python",
   "name": "webvalley19"
  },
  "language_info": {
   "codemirror_mode": {
    "name": "ipython",
    "version": 3
   },
   "file_extension": ".py",
   "mimetype": "text/x-python",
   "name": "python",
   "nbconvert_exporter": "python",
   "pygments_lexer": "ipython3",
   "version": "3.7.3"
  }
 },
 "nbformat": 4,
 "nbformat_minor": 2
}
